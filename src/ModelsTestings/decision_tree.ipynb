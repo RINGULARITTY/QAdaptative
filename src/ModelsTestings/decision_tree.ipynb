{
 "cells": [
  {
   "cell_type": "code",
   "execution_count": 1,
   "metadata": {},
   "outputs": [],
   "source": [
    "import networkx as nx\n",
    "from pyvis.network import Network\n",
    "from math import sqrt\n",
    "import json\n",
    "\n",
    "class Node:\n",
    "    def __init__(self, name, redo=0, id=0):\n",
    "        self.name = name\n",
    "        self.amount = 0\n",
    "        self.redo = [redo]\n",
    "        self.id = id\n",
    "    \n",
    "    def change_redo(self, redo):\n",
    "        self.redo.append(redo)\n",
    "\n",
    "class Link:\n",
    "    def __init__(self, p_state1, p_state2, node1=None, node2=None):\n",
    "        self.p_state1 = [p_state1]\n",
    "        self.p_state2 = [p_state2]\n",
    "        self.node1 = node1\n",
    "        self.node2 = node2\n",
    "    \n",
    "    def change_state_value(self, p_state1, p_state2):\n",
    "        self.p_state1.append(p_state1)\n",
    "        self.p_state2.append(p_state2)\n",
    "\n",
    "class Tree:\n",
    "    def __init__(self):\n",
    "        self.nodes = []\n",
    "        self.links = []\n",
    "        self.current_id = 0\n",
    "    \n",
    "    def add_node(self, node: Node) -> int:\n",
    "        current_id = self.current_id\n",
    "        self.current_id += 1\n",
    "        node.id = current_id\n",
    "        self.nodes.append(node)\n",
    "        return current_id\n",
    "\n",
    "    def add_link(self, link: Link, node_id1, node_id2):\n",
    "        for node in self.nodes:\n",
    "            if node.id == node_id1:\n",
    "                link.node1 = node\n",
    "            if node.id == node_id2:\n",
    "                link.node2 = node\n",
    "        self.links.append(link)\n",
    "\n",
    "    def to_networkx(self):\n",
    "        G = nx.DiGraph()\n",
    "        for node in self.nodes:\n",
    "            G.add_node(node.id, label=f\"{node.name}\")\n",
    "\n",
    "            G.add_edge(node.id, node.id, label=f\"{node.redo[-1]}\")\n",
    "\n",
    "        for link in self.links:\n",
    "            G.add_edge(link.node1.id, link.node2.id, label=f\"{link.p_state2[-1]}\")\n",
    "            G.add_edge(link.node2.id, link.node1.id, label=f\"{link.p_state1[-1]}\")\n",
    "\n",
    "        return G"
   ]
  },
  {
   "cell_type": "code",
   "execution_count": 2,
   "metadata": {},
   "outputs": [],
   "source": [
    "def visualize_tree_at_time(tree, time):\n",
    "    G = nx.DiGraph()\n",
    "    for node in tree.nodes:\n",
    "        redo_value = node.redo[time] if time < len(node.redo) else node.redo[-1]\n",
    "        G.add_node(node.id, label=f\"{node.name}\", title=f\"Amount: {node.amount}\\nRedo at time {time}: {redo_value}\")\n",
    "\n",
    "        if redo_value > 0:\n",
    "            G.add_edge(node.id, node.id, label=f\"{redo_value}\")\n",
    "\n",
    "    for link in tree.links:\n",
    "        p_state1_value = link.p_state1[time] if time < len(link.p_state1) else link.p_state1[-1]\n",
    "        p_state2_value = link.p_state2[time] if time < len(link.p_state2) else link.p_state2[-1]\n",
    "\n",
    "        G.add_edge(link.node1.id, link.node2.id, label=f\"{p_state2_value}\", width=10 * sqrt(p_state2_value))\n",
    "        G.add_edge(link.node2.id, link.node1.id, label=f\"{p_state1_value}\", width=10 * sqrt(p_state1_value))\n",
    "\n",
    "    net = Network(notebook=True, height=\"720px\", width=\"100%\", directed=True, cdn_resources='remote')\n",
    "    net.from_nx(G)\n",
    "    net.force_atlas_2based(spring_length=300)\n",
    "\n",
    "    filename = f\"./visualization/frames/tree_visualization_time_{time}.html\"\n",
    "    net.show(filename)\n",
    "    return filename"
   ]
  },
  {
   "cell_type": "code",
   "execution_count": 3,
   "metadata": {},
   "outputs": [],
   "source": [
    "import os\n",
    "import re\n",
    "\n",
    "def delete_old_frames():\n",
    "    directory = \"./visualization/frames\"\n",
    "    pattern = r'tree_visualization_time_\\d+\\.html'\n",
    "\n",
    "    for filename in os.listdir(directory):\n",
    "        if re.match(pattern, filename):\n",
    "            os.remove(os.path.join(directory, filename))\n",
    "            print(f\"Deleted {filename}\")"
   ]
  },
  {
   "cell_type": "code",
   "execution_count": 4,
   "metadata": {},
   "outputs": [],
   "source": [
    "import re\n",
    "\n",
    "def update_html_max_frame(new_max_frame):\n",
    "    with open(\"./visualization/index.html\", 'r') as file:\n",
    "        content = file.read()\n",
    "\n",
    "    content = re.sub(r'var maxFrame = \\d+;', f'var maxFrame = {new_max_frame};', content)\n",
    "    content = re.sub(r'<input type=\"range\" id=\"timeSlider\" min=\"0\" max=\"\\d+\"', \n",
    "                     f'<input type=\"range\" id=\"timeSlider\" min=\"0\" max=\"{new_max_frame}\"', content)\n",
    "\n",
    "    with open(\"./visualization/index.html\", 'w') as file:\n",
    "        file.write(content)"
   ]
  },
  {
   "cell_type": "code",
   "execution_count": 5,
   "metadata": {},
   "outputs": [
    {
     "name": "stdout",
     "output_type": "stream",
     "text": [
      "Deleted tree_visualization_time_0.html\n",
      "Deleted tree_visualization_time_1.html\n",
      "Deleted tree_visualization_time_2.html\n",
      "Deleted tree_visualization_time_3.html\n",
      "Deleted tree_visualization_time_4.html\n",
      "Deleted tree_visualization_time_5.html\n"
     ]
    },
    {
     "name": "stderr",
     "output_type": "stream",
     "text": [
      " 17%|█▋        | 1/6 [00:00<00:00,  9.03it/s]"
     ]
    },
    {
     "name": "stdout",
     "output_type": "stream",
     "text": [
      "./visualization/frames/tree_visualization_time_0.html\n",
      "./visualization/frames/tree_visualization_time_1.html\n",
      "./visualization/frames/tree_visualization_time_2.html\n"
     ]
    },
    {
     "name": "stderr",
     "output_type": "stream",
     "text": [
      "100%|██████████| 6/6 [00:00<00:00, 23.41it/s]"
     ]
    },
    {
     "name": "stdout",
     "output_type": "stream",
     "text": [
      "./visualization/frames/tree_visualization_time_3.html\n",
      "./visualization/frames/tree_visualization_time_4.html\n",
      "./visualization/frames/tree_visualization_time_5.html\n"
     ]
    },
    {
     "name": "stderr",
     "output_type": "stream",
     "text": [
      "\n"
     ]
    }
   ],
   "source": [
    "import random\n",
    "from tqdm import tqdm\n",
    "\n",
    "frames_amount = 5\n",
    "\n",
    "tree = Tree()\n",
    "\n",
    "ns = [\n",
    "    Node(\"Attack\", 0.1),\n",
    "    Node(\"Block\", 0.4),\n",
    "    Node(\"Dodge\", 0.78)\n",
    "]\n",
    "\n",
    "for i in range(frames_amount):\n",
    "    for n in ns:\n",
    "        n.change_redo(round(random.random(), 2))\n",
    "\n",
    "n1_id = tree.add_node(ns[0])\n",
    "n2_id = tree.add_node(ns[1])\n",
    "n3_id = tree.add_node(ns[2])\n",
    "\n",
    "ls = [\n",
    "    Link(0.3, 0.7),\n",
    "    Link(0.1, 0.9),\n",
    "    Link(0.45, 0.65)\n",
    "]\n",
    "for i in range(frames_amount):\n",
    "    for l in ls:\n",
    "        v = round(random.random(), 2)\n",
    "        l.change_state_value(v, round(1 - v, 2))\n",
    "\n",
    "tree.add_link(ls[0], n1_id, n2_id)\n",
    "tree.add_link(ls[1], n2_id, n3_id)\n",
    "tree.add_link(ls[2], n1_id, n3_id)\n",
    "\n",
    "filenames = []\n",
    "delete_old_frames()\n",
    "for time in tqdm(range(len(tree.nodes[0].redo))):\n",
    "    filenames.append(visualize_tree_at_time(tree, time))\n",
    "update_html_max_frame(frames_amount)"
   ]
  }
 ],
 "metadata": {
  "kernelspec": {
   "display_name": "ml",
   "language": "python",
   "name": "python3"
  },
  "language_info": {
   "codemirror_mode": {
    "name": "ipython",
    "version": 3
   },
   "file_extension": ".py",
   "mimetype": "text/x-python",
   "name": "python",
   "nbconvert_exporter": "python",
   "pygments_lexer": "ipython3",
   "version": "3.11.7"
  }
 },
 "nbformat": 4,
 "nbformat_minor": 2
}
